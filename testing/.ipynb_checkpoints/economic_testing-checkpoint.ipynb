{
 "cells": [
  {
   "cell_type": "code",
   "execution_count": 66,
   "id": "ed465ef3-c369-43c5-87aa-12c9d62ce5a9",
   "metadata": {},
   "outputs": [],
   "source": [
    "import yfinance as yf\n",
    "import pandas as pd\n",
    "from pandas_datareader import wb\n",
    "import datetime as dt\n",
    "import matplotlib.pyplot as plt\n",
    "import quandl"
   ]
  },
  {
   "cell_type": "code",
   "execution_count": 18,
   "id": "bbcb36a7-3027-49f9-b641-2079ede6a111",
   "metadata": {},
   "outputs": [],
   "source": [
    "def stock_df(ticker):\n",
    "    stock = yf.Ticker(ticker)\n",
    "    stock_df = stock.history(start = pd.to_datetime('2011-01-01'), end = pd.to_datetime('today'))\n",
    "    return stock_df"
   ]
  },
  {
   "cell_type": "code",
   "execution_count": 76,
   "id": "c806bd01-9464-4c9c-8253-51f492602a79",
   "metadata": {},
   "outputs": [],
   "source": [
    "import cpi\n",
    "\n",
    "inflation_rate = []\n",
    "cpi_values = []\n",
    "datetime_values = []\n",
    "\n",
    "\n",
    "years = 22\n",
    "#subtract by years + 1 because we need annual inflation by grabbing the year before's values\n",
    "start_year = dt.date.today().year - (years+1)\n",
    "reset_months = 1\n",
    "months =  ( (years + 1) * 12) + (dt.date.today().month-1)\n",
    "\n",
    "for i in range(months):\n",
    "    \n",
    "    if reset_months > 12: \n",
    "        reset_months = 1\n",
    "        start_year +=1\n",
    "        \n",
    "    datetime_obj = dt.date(start_year, reset_months, 1)\n",
    "    \n",
    "    cpi_data = cpi.get(datetime_obj)\n",
    "    cpi_values.append(cpi_data)\n",
    "     \n",
    "    reset_months += 1\n",
    "    \n",
    "    if i > 12:\n",
    "        inflation = (cpi_values[i] - cpi_values[i-12]) / cpi_values[i-12]\n",
    "        inflation_rate.append(inflation)\n",
    "      \n",
    "    # inflation_df = pd.DataFrame(inflation)  \n",
    "# inflation_df\n",
    "    \n",
    "# ( cpi.get(date(2022,1,1)) - cpi.get(date(2021,1,1)) ) / cpi.get(date(2021,1,1))"
   ]
  },
  {
   "cell_type": "code",
   "execution_count": 27,
   "id": "61da5ede-0758-4316-a451-53eb53404309",
   "metadata": {
    "tags": []
   },
   "outputs": [
    {
     "data": {
      "text/html": [
       "<div>\n",
       "<style scoped>\n",
       "    .dataframe tbody tr th:only-of-type {\n",
       "        vertical-align: middle;\n",
       "    }\n",
       "\n",
       "    .dataframe tbody tr th {\n",
       "        vertical-align: top;\n",
       "    }\n",
       "\n",
       "    .dataframe thead th {\n",
       "        text-align: right;\n",
       "    }\n",
       "</style>\n",
       "<table border=\"1\" class=\"dataframe\">\n",
       "  <thead>\n",
       "    <tr style=\"text-align: right;\">\n",
       "      <th></th>\n",
       "      <th>country</th>\n",
       "      <th>year</th>\n",
       "      <th>NY.GDP.MKTP.CD</th>\n",
       "      <th>Percent Change</th>\n",
       "    </tr>\n",
       "  </thead>\n",
       "  <tbody>\n",
       "    <tr>\n",
       "      <th>0</th>\n",
       "      <td>United States</td>\n",
       "      <td>2000</td>\n",
       "      <td>10252345464000</td>\n",
       "      <td>NaN</td>\n",
       "    </tr>\n",
       "    <tr>\n",
       "      <th>1</th>\n",
       "      <td>United States</td>\n",
       "      <td>2001</td>\n",
       "      <td>10581821399000</td>\n",
       "      <td>3.213664</td>\n",
       "    </tr>\n",
       "    <tr>\n",
       "      <th>2</th>\n",
       "      <td>United States</td>\n",
       "      <td>2002</td>\n",
       "      <td>10936419054000</td>\n",
       "      <td>3.351008</td>\n",
       "    </tr>\n",
       "    <tr>\n",
       "      <th>3</th>\n",
       "      <td>United States</td>\n",
       "      <td>2003</td>\n",
       "      <td>11458243878000</td>\n",
       "      <td>4.771441</td>\n",
       "    </tr>\n",
       "    <tr>\n",
       "      <th>4</th>\n",
       "      <td>United States</td>\n",
       "      <td>2004</td>\n",
       "      <td>12213729147000</td>\n",
       "      <td>6.593377</td>\n",
       "    </tr>\n",
       "    <tr>\n",
       "      <th>5</th>\n",
       "      <td>United States</td>\n",
       "      <td>2005</td>\n",
       "      <td>13036640230000</td>\n",
       "      <td>6.737591</td>\n",
       "    </tr>\n",
       "    <tr>\n",
       "      <th>6</th>\n",
       "      <td>United States</td>\n",
       "      <td>2006</td>\n",
       "      <td>13814611414000</td>\n",
       "      <td>5.967574</td>\n",
       "    </tr>\n",
       "    <tr>\n",
       "      <th>7</th>\n",
       "      <td>United States</td>\n",
       "      <td>2007</td>\n",
       "      <td>14451858656000</td>\n",
       "      <td>4.612850</td>\n",
       "    </tr>\n",
       "    <tr>\n",
       "      <th>8</th>\n",
       "      <td>United States</td>\n",
       "      <td>2008</td>\n",
       "      <td>14712844084000</td>\n",
       "      <td>1.805895</td>\n",
       "    </tr>\n",
       "    <tr>\n",
       "      <th>9</th>\n",
       "      <td>United States</td>\n",
       "      <td>2009</td>\n",
       "      <td>14448933025000</td>\n",
       "      <td>-1.793746</td>\n",
       "    </tr>\n",
       "    <tr>\n",
       "      <th>10</th>\n",
       "      <td>United States</td>\n",
       "      <td>2010</td>\n",
       "      <td>14992052727000</td>\n",
       "      <td>3.758891</td>\n",
       "    </tr>\n",
       "    <tr>\n",
       "      <th>11</th>\n",
       "      <td>United States</td>\n",
       "      <td>2011</td>\n",
       "      <td>15542581104000</td>\n",
       "      <td>3.672135</td>\n",
       "    </tr>\n",
       "    <tr>\n",
       "      <th>12</th>\n",
       "      <td>United States</td>\n",
       "      <td>2012</td>\n",
       "      <td>16197007349000</td>\n",
       "      <td>4.210538</td>\n",
       "    </tr>\n",
       "    <tr>\n",
       "      <th>13</th>\n",
       "      <td>United States</td>\n",
       "      <td>2013</td>\n",
       "      <td>16784849196000</td>\n",
       "      <td>3.629324</td>\n",
       "    </tr>\n",
       "    <tr>\n",
       "      <th>14</th>\n",
       "      <td>United States</td>\n",
       "      <td>2014</td>\n",
       "      <td>17527163695000</td>\n",
       "      <td>4.422527</td>\n",
       "    </tr>\n",
       "    <tr>\n",
       "      <th>15</th>\n",
       "      <td>United States</td>\n",
       "      <td>2015</td>\n",
       "      <td>18238300569000</td>\n",
       "      <td>4.057341</td>\n",
       "    </tr>\n",
       "    <tr>\n",
       "      <th>16</th>\n",
       "      <td>United States</td>\n",
       "      <td>2016</td>\n",
       "      <td>18745075687000</td>\n",
       "      <td>2.778631</td>\n",
       "    </tr>\n",
       "    <tr>\n",
       "      <th>17</th>\n",
       "      <td>United States</td>\n",
       "      <td>2017</td>\n",
       "      <td>19542979183000</td>\n",
       "      <td>4.256603</td>\n",
       "    </tr>\n",
       "    <tr>\n",
       "      <th>18</th>\n",
       "      <td>United States</td>\n",
       "      <td>2018</td>\n",
       "      <td>20611860934000</td>\n",
       "      <td>5.469390</td>\n",
       "    </tr>\n",
       "    <tr>\n",
       "      <th>19</th>\n",
       "      <td>United States</td>\n",
       "      <td>2019</td>\n",
       "      <td>21433224697000</td>\n",
       "      <td>3.984908</td>\n",
       "    </tr>\n",
       "    <tr>\n",
       "      <th>20</th>\n",
       "      <td>United States</td>\n",
       "      <td>2020</td>\n",
       "      <td>20953030000000</td>\n",
       "      <td>-2.240422</td>\n",
       "    </tr>\n",
       "  </tbody>\n",
       "</table>\n",
       "</div>"
      ],
      "text/plain": [
       "          country  year  NY.GDP.MKTP.CD  Percent Change\n",
       "0   United States  2000  10252345464000             NaN\n",
       "1   United States  2001  10581821399000        3.213664\n",
       "2   United States  2002  10936419054000        3.351008\n",
       "3   United States  2003  11458243878000        4.771441\n",
       "4   United States  2004  12213729147000        6.593377\n",
       "5   United States  2005  13036640230000        6.737591\n",
       "6   United States  2006  13814611414000        5.967574\n",
       "7   United States  2007  14451858656000        4.612850\n",
       "8   United States  2008  14712844084000        1.805895\n",
       "9   United States  2009  14448933025000       -1.793746\n",
       "10  United States  2010  14992052727000        3.758891\n",
       "11  United States  2011  15542581104000        3.672135\n",
       "12  United States  2012  16197007349000        4.210538\n",
       "13  United States  2013  16784849196000        3.629324\n",
       "14  United States  2014  17527163695000        4.422527\n",
       "15  United States  2015  18238300569000        4.057341\n",
       "16  United States  2016  18745075687000        2.778631\n",
       "17  United States  2017  19542979183000        4.256603\n",
       "18  United States  2018  20611860934000        5.469390\n",
       "19  United States  2019  21433224697000        3.984908\n",
       "20  United States  2020  20953030000000       -2.240422"
      ]
     },
     "metadata": {},
     "output_type": "display_data"
    },
    {
     "data": {
      "text/plain": [
       "<AxesSubplot:>"
      ]
     },
     "execution_count": 27,
     "metadata": {},
     "output_type": "execute_result"
    },
    {
     "data": {
      "image/png": "[encoded data removed]",
      "text/plain": [
       "<Figure size 432x288 with 1 Axes>"
      ]
     },
     "metadata": {
      "needs_background": "light"
     },
     "output_type": "display_data"
    }
   ],
   "source": [
    "usa_gdp = wb.download(country = \"USA\", indicator = \"NY.GDP.MKTP.CD\", start = 2000, end = date.today().year)\n",
    "usa_gdp = usa_gdp.iloc[::-1]\n",
    "usa_gdp.reset_index(inplace = True)\n",
    "usa_gdp[\"Percent Change\"] = usa_gdp[\"NY.GDP.MKTP.CD\"].pct_change() * 100\n",
    "display(usa_gdp)\n",
    "usa_gdp[\"NY.GDP.MKTP.CD\"][15:].plot()"
   ]
  },
  {
   "cell_type": "code",
   "execution_count": 17,
   "id": "4c7b2411-d0e9-42e3-a4ab-d7236c507e1d",
   "metadata": {},
   "outputs": [],
   "source": []
  },
  {
   "cell_type": "code",
   "execution_count": 24,
   "id": "f8185a99-d03c-43b8-99d6-17ed9c86b6fe",
   "metadata": {},
   "outputs": [],
   "source": []
  },
  {
   "cell_type": "code",
   "execution_count": 56,
   "id": "8fe6233b-f106-4c0b-90e7-0a9e2d459dff",
   "metadata": {},
   "outputs": [
    {
     "data": {
      "text/html": [
       "<div>\n",
       "<style scoped>\n",
       "    .dataframe tbody tr th:only-of-type {\n",
       "        vertical-align: middle;\n",
       "    }\n",
       "\n",
       "    .dataframe tbody tr th {\n",
       "        vertical-align: top;\n",
       "    }\n",
       "\n",
       "    .dataframe thead th {\n",
       "        text-align: right;\n",
       "    }\n",
       "</style>\n",
       "<table border=\"1\" class=\"dataframe\">\n",
       "  <thead>\n",
       "    <tr style=\"text-align: right;\">\n",
       "      <th></th>\n",
       "      <th>Value</th>\n",
       "    </tr>\n",
       "    <tr>\n",
       "      <th>Date</th>\n",
       "      <th></th>\n",
       "    </tr>\n",
       "  </thead>\n",
       "  <tbody>\n",
       "    <tr>\n",
       "      <th>1999-07-01</th>\n",
       "      <td>9.686626</td>\n",
       "    </tr>\n",
       "    <tr>\n",
       "      <th>1999-10-01</th>\n",
       "      <td>9.900169</td>\n",
       "    </tr>\n",
       "    <tr>\n",
       "      <th>2000-01-01</th>\n",
       "      <td>10.002179</td>\n",
       "    </tr>\n",
       "    <tr>\n",
       "      <th>2000-04-01</th>\n",
       "      <td>10.247720</td>\n",
       "    </tr>\n",
       "    <tr>\n",
       "      <th>2000-07-01</th>\n",
       "      <td>10.318165</td>\n",
       "    </tr>\n",
       "    <tr>\n",
       "      <th>...</th>\n",
       "      <td>...</td>\n",
       "    </tr>\n",
       "    <tr>\n",
       "      <th>2020-10-01</th>\n",
       "      <td>21.477597</td>\n",
       "    </tr>\n",
       "    <tr>\n",
       "      <th>2021-01-01</th>\n",
       "      <td>22.038226</td>\n",
       "    </tr>\n",
       "    <tr>\n",
       "      <th>2021-04-01</th>\n",
       "      <td>22.740959</td>\n",
       "    </tr>\n",
       "    <tr>\n",
       "      <th>2021-07-01</th>\n",
       "      <td>23.202344</td>\n",
       "    </tr>\n",
       "    <tr>\n",
       "      <th>2021-10-01</th>\n",
       "      <td>23.992355</td>\n",
       "    </tr>\n",
       "  </tbody>\n",
       "</table>\n",
       "<p>90 rows × 1 columns</p>\n",
       "</div>"
      ],
      "text/plain": [
       "                Value\n",
       "Date                 \n",
       "1999-07-01   9.686626\n",
       "1999-10-01   9.900169\n",
       "2000-01-01  10.002179\n",
       "2000-04-01  10.247720\n",
       "2000-07-01  10.318165\n",
       "...               ...\n",
       "2020-10-01  21.477597\n",
       "2021-01-01  22.038226\n",
       "2021-04-01  22.740959\n",
       "2021-07-01  23.202344\n",
       "2021-10-01  23.992355\n",
       "\n",
       "[90 rows x 1 columns]"
      ]
     },
     "execution_count": 56,
     "metadata": {},
     "output_type": "execute_result"
    }
   ],
   "source": [
    "import nasdaqdatalink\n",
    "mydata = nasdaqdatalink.get(\"FRED/GDP\")\n",
    "mydata = mydata[-90:]/1000\n",
    "# mydata.plot()\n",
    "mydata"
   ]
  },
  {
   "cell_type": "code",
   "execution_count": 58,
   "id": "bedfacb9-ef4f-4b32-bdf4-1945ca564ffb",
   "metadata": {},
   "outputs": [
    {
     "data": {
      "text/plain": [
       "<AxesSubplot:xlabel='Date'>"
      ]
     },
     "execution_count": 58,
     "metadata": {},
     "output_type": "execute_result"
    },
    {
     "data": {
      "image/png": "[encoded data removed]",
      "text/plain": [
       "<Figure size 432x288 with 1 Axes>"
      ]
     },
     "metadata": {
      "needs_background": "light"
     },
     "output_type": "display_data"
    }
   ],
   "source": [
    "# mydata.reset_index(inplace = True)\n",
    "# mydata = pd.DataFrame(mydata.groupby(mydata['Date'].dt.year)[\"Value\"].agg(\"mean\"))\n",
    "# mydata.rename(columns = {\"Value\": \"USA GDP in $ Trillions\"}, inplace = True)\n",
    "\n",
    "mydata.plot()\n",
    "# df.groupby(df['date'].dt.year)['a'].agg(['sum', 'mean', 'max'])"
   ]
  },
  {
   "cell_type": "code",
   "execution_count": 64,
   "id": "af748efe-3ca8-439d-aec9-152fc8c4e9a6",
   "metadata": {},
   "outputs": [
    {
     "data": {
      "text/plain": [
       "<AxesSubplot:xlabel='Date'>"
      ]
     },
     "execution_count": 64,
     "metadata": {},
     "output_type": "execute_result"
    },
    {
     "data": {
      "image/png": "[encoded data removed]",
      "text/plain": [
       "<Figure size 432x288 with 1 Axes>"
      ]
     },
     "metadata": {
      "needs_background": "light"
     },
     "output_type": "display_data"
    }
   ],
   "source": [
    "unemployment_data = nasdaqdatalink.get(\"FRED/PAYEMS\")\n",
    "unemployment_data/=1000\n",
    "unemployment_data.rename(columns = {\"Value\": \"Employment in the Millions\"}, inplace = True)\n",
    "unemployment_data.plot()"
   ]
  },
  {
   "cell_type": "code",
   "execution_count": null,
   "id": "1275d7c8-70ff-40da-9bdb-8503326f3b82",
   "metadata": {},
   "outputs": [],
   "source": []
  }
 ],
 "metadata": {
  "kernelspec": {
   "display_name": "Python 3",
   "language": "python",
   "name": "python3"
  },
  "language_info": {
   "codemirror_mode": {
    "name": "ipython",
    "version": 3
   },
   "file_extension": ".py",
   "mimetype": "text/x-python",
   "name": "python",
   "nbconvert_exporter": "python",
   "pygments_lexer": "ipython3",
   "version": "3.7.10"
  }
 },
 "nbformat": 4,
 "nbformat_minor": 5
}
